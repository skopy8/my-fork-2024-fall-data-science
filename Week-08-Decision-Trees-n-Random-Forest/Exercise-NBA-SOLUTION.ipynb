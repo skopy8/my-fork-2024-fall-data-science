{
 "cells": [
  {
   "cell_type": "code",
   "execution_count": null,
   "id": "8da2f347",
   "metadata": {},
   "outputs": [],
   "source": [
    "# PANDAS IS FOR DATA WRANGLING\n",
    "import pandas as pd\n",
    "import numpy as np\n",
    "\n",
    "# SEABORN IS A PLOTTING LIBRARY\n",
    "import seaborn as sns\n",
    "\n",
    "# MATPLOT LIB IS ALSO A PLOTTING LIBRARY\n",
    "import matplotlib.pyplot as plt\n",
    "\n",
    "\n",
    "# Good ol statsmodels\n",
    "import statsmodels.api as sm\n",
    "\n",
    "# Specific root mean squared error for stats models\n",
    "from statsmodels.tools.eval_measures import rmse\n",
    "\n",
    "# CTP Library\n",
    "from CTPLIB import CTP_LinReg\n"
   ]
  },
  {
   "cell_type": "code",
   "execution_count": null,
   "id": "f3f86d67",
   "metadata": {},
   "outputs": [],
   "source": [
    "df = pd.read_csv('data/NBA_train.csv')\n",
    "df.head().T"
   ]
  },
  {
   "cell_type": "markdown",
   "id": "e565165c",
   "metadata": {},
   "source": [
    "# Finding how many wins needed to make the playoffs \n",
    "\n",
    "* Compute the mean and standard deviation for the number of wins for teams that DID NOT  make the playoffs.\n",
    "* Determine the wins above which 95% of the non-playoff teams fall"
   ]
  },
  {
   "cell_type": "code",
   "execution_count": null,
   "id": "57c83312",
   "metadata": {},
   "outputs": [],
   "source": [
    "# Extract wins for teams that made and didn't make the playoffs\n",
    "playoff_wins = df[df['Playoffs'] == 1]['W'].values\n",
    "non_playoff_wins = df[df['Playoffs'] == 0]['W'].values\n",
    "\n",
    "\n",
    "from scipy.stats import norm\n",
    "\n",
    "# Calculate mean and standard deviation for non-playoff wins\n",
    "mean_non_playoff_wins = np.mean(non_playoff_wins)\n",
    "std_non_playoff_wins = np.std(non_playoff_wins)\n",
    "\n",
    "# Determine the wins above which 95% of the non-playoff teams fall\n",
    "threshold_wins_95 = norm.ppf(0.95, mean_non_playoff_wins, std_non_playoff_wins)\n",
    "threshold_wins_95\n"
   ]
  },
  {
   "cell_type": "code",
   "execution_count": null,
   "id": "11d4dec8",
   "metadata": {},
   "outputs": [],
   "source": [
    "sns.set()\n",
    "plt.figure(figsize=(13, 8))\n",
    "ax = sns.scatterplot(df, x='W', y='Team', hue='Playoffs')\n",
    "ax.axvline(x=int(threshold_wins_95), color='red')"
   ]
  },
  {
   "cell_type": "code",
   "execution_count": null,
   "id": "2e2e9675",
   "metadata": {},
   "outputs": [],
   "source": [
    "df['points_diff'] = df['PTS'] - df['oppPTS']\n",
    "\n",
    "independent_vars = 'points_diff'\n",
    "dependent_var = 'W'"
   ]
  },
  {
   "cell_type": "code",
   "execution_count": null,
   "id": "9085922f",
   "metadata": {},
   "outputs": [],
   "source": [
    "df.points_diff.hist()"
   ]
  },
  {
   "cell_type": "code",
   "execution_count": null,
   "id": "719ffcc6",
   "metadata": {},
   "outputs": [],
   "source": [
    "model_wins = CTP_LinReg(df, independent_vars, dependent_var, simple=True)\n",
    "model_wins.build_model()\n",
    "\n",
    "#### run code below to check for all gotchyas\n",
    "# model_wins.run_all()"
   ]
  },
  {
   "cell_type": "markdown",
   "id": "014b26b5",
   "metadata": {},
   "source": [
    "## Use the model coefficents to find how many points_diff we need to safely win our target of 42 Wins to make the playoffs"
   ]
  },
  {
   "cell_type": "code",
   "execution_count": null,
   "id": "1d5f4d10",
   "metadata": {},
   "outputs": [],
   "source": [
    "wins_needed_to_make_playoffs = int(threshold_wins_95)\n",
    "\n",
    "\n",
    "coef_y_int = model_wins.model.params['const']\n",
    "coef_runs_diff = model_wins.model.params['points_diff']\n",
    "\n",
    "print(wins_needed_to_make_playoffs, coef_y_int, coef_runs_diff)\n",
    "\n",
    "\n",
    "min_pts_diff = (wins_needed_to_make_playoffs - coef_y_int) / coef_runs_diff\n",
    "min_pts_diff\n"
   ]
  },
  {
   "cell_type": "markdown",
   "id": "3d421622",
   "metadata": {},
   "source": [
    "## Here we need to score 30.68 more points than we allow to make win 42 games and make the playoffs"
   ]
  },
  {
   "cell_type": "code",
   "execution_count": null,
   "id": "3b47c778",
   "metadata": {},
   "outputs": [],
   "source": [
    "ax = sns.regplot(df, x='points_diff', y='W' )\n",
    "ax.axvline(x=min_pts_diff, color='red')\n",
    "ax.axhline(y=wins_needed_to_make_playoffs, color='red')"
   ]
  },
  {
   "cell_type": "markdown",
   "id": "6fc239bb",
   "metadata": {},
   "source": [
    "# KITCHEN SINK MODEL \n",
    "* Build a model for points scored using everything we have."
   ]
  },
  {
   "cell_type": "code",
   "execution_count": null,
   "id": "cd0a50d7",
   "metadata": {
    "collapsed": true
   },
   "outputs": [],
   "source": [
    "print(df.columns)\n",
    "iv = ['2PA', '3PA', 'FTA', 'ORB', 'DRB', 'AST', 'STL', 'BLK', 'TOV']\n",
    "dv = 'PTS'\n",
    "model_pts = CTP_LinReg(df, iv, dv)\n",
    "model_pts.run_all()\n",
    "\n"
   ]
  },
  {
   "cell_type": "markdown",
   "id": "2698b548",
   "metadata": {},
   "source": [
    "# Extract only the statistically signifant feautres (aka features with a p-value of <0.05)"
   ]
  },
  {
   "cell_type": "code",
   "execution_count": null,
   "id": "aa96814b",
   "metadata": {
    "scrolled": false
   },
   "outputs": [],
   "source": [
    "\n",
    "\n",
    "significant_vars = model_pts.model.pvalues[model_pts.model.pvalues.round(3) < 0.05].round(3).copy()\n",
    "sig_ivs = list(significant_vars.index)\n",
    "\n",
    "sig_ivs.remove('const')\n",
    "print(sig_ivs)\n",
    "\n",
    "dv = 'PTS'\n",
    "model_pts2 = CTP_LinReg(df, sig_ivs, dv)\n",
    "model_pts2.build_model()\n",
    "# model_pts2.run_all()\n"
   ]
  },
  {
   "cell_type": "markdown",
   "id": "9d97954d",
   "metadata": {},
   "source": [
    "# Model Interpertation\n",
    "\n",
    "* r^2 score is very high\n",
    "* Model's RMSE is 184, which means its on aveage 184 points away from the acutal.  Sounds high, however, the average prediction actual is 8370, and 184 is about 2% of the average, so on average we are about 2% off our target which is great. \n",
    "\n",
    "### Coefficient Interpertation\n",
    "\n",
    "* 3PA seems to be the most important when it comes to scoring. This makes sense as 3P are worth the most. \n",
    "* Next is FT, which they are only worth one, however, they are made at such a high rate that that is probably why they are worth more than 2P. \n",
    "* Next is 2PA which also makes sense as they are a majority of how scoring is done in the NBA.\n",
    "* Next biggest factor is assists, which also make sense as it measures assisting someone scoring.  \n",
    "* What is suprising to me is that ORB (offensive rebounds) acutally lowers points scored.  This doesn't make much sense to me, but maybe its because you can only make an offensive rebound when you MISS a shot, so maybe that is why... because teams that miss more shots will have higher ORB and missing shots will obvisouly score less points. "
   ]
  },
  {
   "cell_type": "markdown",
   "id": "e78cc0a5",
   "metadata": {},
   "source": [
    "### Side note: Interesting Model\n",
    "* Notice the coefficents are excatly how many points each point is worth...."
   ]
  },
  {
   "cell_type": "code",
   "execution_count": null,
   "id": "1e4e8d08",
   "metadata": {},
   "outputs": [],
   "source": [
    "ivs = ['2P', '3P', 'FT']\n",
    "dv = 'PTS'\n",
    "trippy = CTP_LinReg(df, ivs, dv)\n",
    "trippy.build_model()"
   ]
  },
  {
   "cell_type": "code",
   "execution_count": null,
   "id": "764cea28",
   "metadata": {},
   "outputs": [],
   "source": []
  },
  {
   "cell_type": "markdown",
   "id": "5dee91c3",
   "metadata": {},
   "source": [
    "# Test our model"
   ]
  },
  {
   "cell_type": "code",
   "execution_count": null,
   "id": "411d177d",
   "metadata": {},
   "outputs": [],
   "source": [
    "print(sig_ivs)"
   ]
  },
  {
   "cell_type": "code",
   "execution_count": null,
   "id": "9a6c61eb",
   "metadata": {},
   "outputs": [],
   "source": [
    "test_df = pd.read_csv('data/NBA_test.csv')\n",
    "test_df['points_diff'] = test_df['PTS'] - test_df['oppPTS']\n",
    "\n",
    "\n",
    "ivs = ['2PA', '3PA', 'FTA', 'ORB', 'AST', 'STL']\n",
    "dv = 'PTS'\n",
    "\n",
    "X_test = test_df[ivs]\n",
    "X_test = sm.add_constant(X_test)\n",
    "X_test\n",
    "\n",
    "\n",
    "y_test = test_df[dv]\n",
    "y_pred = model_pts2.model.predict(X_test).round(1)\n",
    "\n",
    "avg_error = rmse(y_test, y_pred)\n",
    "print('Root Mean Squared Error: ', avg_error)\n",
    "\n",
    "test_data_pts_avg = test_df[dv].mean()\n",
    "print('Average Points Scored of test data', test_data_pts_avg)\n",
    "print('RMSE Percentage off average:', ((avg_error / test_data_pts_avg)*100).round(2))\n"
   ]
  }
 ],
 "metadata": {
  "kernelspec": {
   "display_name": "Python 3 (ipykernel)",
   "language": "python",
   "name": "python3"
  },
  "language_info": {
   "codemirror_mode": {
    "name": "ipython",
    "version": 3
   },
   "file_extension": ".py",
   "mimetype": "text/x-python",
   "name": "python",
   "nbconvert_exporter": "python",
   "pygments_lexer": "ipython3",
   "version": "3.11.4"
  }
 },
 "nbformat": 4,
 "nbformat_minor": 5
}
